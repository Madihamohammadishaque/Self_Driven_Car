{
  "nbformat": 4,
  "nbformat_minor": 0,
  "metadata": {
    "colab": {
      "name": "Multiclass Classification.ipynb",
      "provenance": [],
      "collapsed_sections": []
    },
    "kernelspec": {
      "name": "python3",
      "display_name": "Python 3"
    },
    "language_info": {
      "name": "python"
    }
  },
  "cells": [
    {
      "cell_type": "code",
      "metadata": {
        "id": "zFpZiSyIVfu6"
      },
      "source": [
        "import numpy as np\n",
        "import matplotlib.pyplot as plt\n",
        "import tensorflow.keras\n",
        "from sklearn import datasets\n",
        "from tensorflow.keras.models import Sequential\n",
        "from tensorflow.keras.layers import Dense\n",
        "from keras.optimizers import adam_v2\n",
        "from keras.utils.np_utils import to_categorical\n",
        "import random"
      ],
      "execution_count": 8,
      "outputs": []
    },
    {
      "cell_type": "code",
      "metadata": {
        "id": "62wAzWBSWCsz"
      },
      "source": [
        "n_pts = 500\n",
        "centers = [[-1, 1], [-1, -1], [1, -1], [1, 1], [0, 0]]\n",
        "X, y = datasets.make_blobs(n_samples=n_pts, random_state = 123, centers=centers, cluster_std=0.4)"
      ],
      "execution_count": 9,
      "outputs": []
    },
    {
      "cell_type": "code",
      "metadata": {
        "colab": {
          "base_uri": "https://localhost:8080/",
          "height": 503
        },
        "id": "xnWnAuAGWHRI",
        "outputId": "d95dd018-16ef-4142-a473-34dc0ff54be8"
      },
      "source": [
        "plt.scatter(X[y==0, 0], X[y==0, 1])\n",
        "plt.scatter(X[y==1, 0], X[y==1, 1])\n",
        "plt.scatter(X[y==2, 0], X[y==2, 1])\n",
        "plt.scatter(X[y==3, 0], X[y==3, 1])\n",
        "plt.scatter(X[y==4, 0], X[y==4, 1])\n",
        " \n",
        "print(y)"
      ],
      "execution_count": 10,
      "outputs": [
        {
          "output_type": "stream",
          "name": "stdout",
          "text": [
            "[3 3 4 0 2 1 1 4 4 4 3 2 1 0 2 4 4 4 3 0 3 0 3 4 1 3 1 0 4 2 3 1 0 4 1 0 4\n",
            " 0 4 0 1 3 3 0 3 1 3 4 0 4 0 2 3 0 2 4 4 0 3 4 1 3 0 4 2 1 1 2 3 2 3 2 1 1\n",
            " 3 2 4 2 2 3 0 2 4 3 2 1 3 3 3 3 1 1 4 2 4 4 1 2 4 1 4 2 2 3 4 1 1 3 3 2 1\n",
            " 3 1 0 1 0 4 4 4 3 1 3 3 3 1 4 4 0 2 0 1 1 0 4 0 1 1 4 4 0 4 3 4 4 2 4 0 0\n",
            " 0 4 2 0 4 1 0 2 2 1 3 0 1 2 2 4 4 1 3 2 3 3 3 2 2 2 4 0 1 1 0 1 4 4 3 2 3\n",
            " 2 3 1 0 3 4 2 1 0 0 0 4 3 0 4 2 2 3 1 0 4 4 1 2 1 3 1 4 4 0 1 4 2 4 0 4 0\n",
            " 1 2 3 0 1 0 3 3 4 3 4 0 0 1 1 3 0 4 1 4 2 1 2 4 4 3 3 1 1 1 4 1 1 1 4 3 1\n",
            " 0 0 2 2 2 3 2 3 4 2 3 3 1 1 0 4 0 3 0 0 0 3 2 2 1 4 2 0 0 2 2 1 3 3 1 3 0\n",
            " 0 1 4 2 2 2 1 0 0 1 0 0 1 2 4 2 4 2 1 3 0 0 1 4 1 2 4 4 4 3 4 1 2 3 1 3 1\n",
            " 0 0 2 4 1 3 1 1 2 1 4 3 1 2 3 2 0 4 1 4 0 2 2 0 1 2 2 4 4 0 4 1 3 3 2 2 0\n",
            " 4 3 3 1 2 2 4 3 0 3 3 3 3 0 1 4 4 4 0 3 3 2 4 0 4 0 0 4 2 2 2 3 0 2 0 0 1\n",
            " 2 3 0 0 2 4 2 3 0 3 0 1 0 4 1 0 0 1 3 1 4 0 2 1 1 3 2 3 2 2 2 3 1 0 0 0 1\n",
            " 3 4 2 1 0 2 1 4 3 3 4 0 0 2 2 0 0 2 2 3 4 3 2 2 2 2 0 1 3 0 2 1 2 0 2 3 4\n",
            " 3 1 4 3 3 0 2 4 0 4 1 3 2 1 3 0 1 2 1]\n"
          ]
        },
        {
          "output_type": "display_data",
          "data": {
            "image/png": "[encoded data removed]",
            "text/plain": [
              "<Figure size 432x288 with 1 Axes>"
            ]
          },
          "metadata": {
            "needs_background": "light"
          }
        }
      ]
    },
    {
      "cell_type": "code",
      "metadata": {
        "colab": {
          "base_uri": "https://localhost:8080/"
        },
        "id": "NeLGrYCeWLeR",
        "outputId": "767644f4-c5c2-4bbd-9034-598851c1c31f"
      },
      "source": [
        "y_cat = to_categorical(y, 5)\n",
        "print(y_cat)"
      ],
      "execution_count": 11,
      "outputs": [
        {
          "output_type": "stream",
          "name": "stdout",
          "text": [
            "[[0. 0. 0. 1. 0.]\n",
            " [0. 0. 0. 1. 0.]\n",
            " [0. 0. 0. 0. 1.]\n",
            " ...\n",
            " [0. 1. 0. 0. 0.]\n",
            " [0. 0. 1. 0. 0.]\n",
            " [0. 1. 0. 0. 0.]]\n"
          ]
        }
      ]
    },
    {
      "cell_type": "code",
      "metadata": {
        "id": "qz_Oq8gwWPO4"
      },
      "source": [
        "model = Sequential()\n",
        "model.add(Dense(units=5, input_shape=(2,), activation='softmax'))\n",
        "model.compile(adam_v2.Adam(0.1), 'categorical_crossentropy', metrics=['accuracy'])"
      ],
      "execution_count": 12,
      "outputs": []
    },
    {
      "cell_type": "code",
      "metadata": {
        "colab": {
          "base_uri": "https://localhost:8080/"
        },
        "id": "BPuWXKLIWTmo",
        "outputId": "1b86d967-cf28-4037-9c6a-36ed62b6c65d"
      },
      "source": [
        "#one hot encode output\n",
        "model.fit(x = X, y = y_cat, verbose = 1, batch_size = 50, epochs = 100)"
      ],
      "execution_count": 13,
      "outputs": [
        {
          "output_type": "stream",
          "name": "stdout",
          "text": [
            "Epoch 1/100\n",
            "10/10 [==============================] - 1s 1ms/step - loss: 1.1415 - accuracy: 0.5600\n",
            "Epoch 2/100\n",
            "10/10 [==============================] - 0s 1ms/step - loss: 0.5867 - accuracy: 0.8400\n",
            "Epoch 3/100\n",
            "10/10 [==============================] - 0s 1ms/step - loss: 0.4004 - accuracy: 0.9220\n",
            "Epoch 4/100\n",
            "10/10 [==============================] - 0s 2ms/step - loss: 0.3204 - accuracy: 0.9360\n",
            "Epoch 5/100\n",
            "10/10 [==============================] - 0s 2ms/step - loss: 0.2826 - accuracy: 0.9420\n",
            "Epoch 6/100\n",
            "10/10 [==============================] - 0s 2ms/step - loss: 0.2568 - accuracy: 0.9400\n",
            "Epoch 7/100\n",
            "10/10 [==============================] - 0s 1ms/step - loss: 0.2400 - accuracy: 0.9420\n",
            "Epoch 8/100\n",
            "10/10 [==============================] - 0s 1ms/step - loss: 0.2296 - accuracy: 0.9480\n",
            "Epoch 9/100\n",
            "10/10 [==============================] - 0s 1ms/step - loss: 0.2177 - accuracy: 0.9480\n",
            "Epoch 10/100\n",
            "10/10 [==============================] - 0s 1ms/step - loss: 0.2111 - accuracy: 0.9480\n",
            "Epoch 11/100\n",
            "10/10 [==============================] - 0s 1ms/step - loss: 0.2040 - accuracy: 0.9480\n",
            "Epoch 12/100\n",
            "10/10 [==============================] - 0s 1ms/step - loss: 0.1981 - accuracy: 0.9520\n",
            "Epoch 13/100\n",
            "10/10 [==============================] - 0s 1ms/step - loss: 0.1936 - accuracy: 0.9480\n",
            "Epoch 14/100\n",
            "10/10 [==============================] - 0s 1ms/step - loss: 0.1890 - accuracy: 0.9500\n",
            "Epoch 15/100\n",
            "10/10 [==============================] - 0s 2ms/step - loss: 0.1853 - accuracy: 0.9480\n",
            "Epoch 16/100\n",
            "10/10 [==============================] - 0s 2ms/step - loss: 0.1824 - accuracy: 0.9520\n",
            "Epoch 17/100\n",
            "10/10 [==============================] - 0s 2ms/step - loss: 0.1806 - accuracy: 0.9520\n",
            "Epoch 18/100\n",
            "10/10 [==============================] - 0s 1ms/step - loss: 0.1776 - accuracy: 0.9480\n",
            "Epoch 19/100\n",
            "10/10 [==============================] - 0s 1ms/step - loss: 0.1751 - accuracy: 0.9500\n",
            "Epoch 20/100\n",
            "10/10 [==============================] - 0s 3ms/step - loss: 0.1735 - accuracy: 0.9460\n",
            "Epoch 21/100\n",
            "10/10 [==============================] - 0s 1ms/step - loss: 0.1725 - accuracy: 0.9520\n",
            "Epoch 22/100\n",
            "10/10 [==============================] - 0s 1ms/step - loss: 0.1694 - accuracy: 0.9480\n",
            "Epoch 23/100\n",
            "10/10 [==============================] - 0s 1ms/step - loss: 0.1682 - accuracy: 0.9520\n",
            "Epoch 24/100\n",
            "10/10 [==============================] - 0s 1ms/step - loss: 0.1664 - accuracy: 0.9500\n",
            "Epoch 25/100\n",
            "10/10 [==============================] - 0s 1ms/step - loss: 0.1657 - accuracy: 0.9540\n",
            "Epoch 26/100\n",
            "10/10 [==============================] - 0s 1ms/step - loss: 0.1660 - accuracy: 0.9480\n",
            "Epoch 27/100\n",
            "10/10 [==============================] - 0s 1ms/step - loss: 0.1651 - accuracy: 0.9520\n",
            "Epoch 28/100\n",
            "10/10 [==============================] - 0s 2ms/step - loss: 0.1629 - accuracy: 0.9520\n",
            "Epoch 29/100\n",
            "10/10 [==============================] - 0s 2ms/step - loss: 0.1617 - accuracy: 0.9520\n",
            "Epoch 30/100\n",
            "10/10 [==============================] - 0s 2ms/step - loss: 0.1613 - accuracy: 0.9500\n",
            "Epoch 31/100\n",
            "10/10 [==============================] - 0s 1ms/step - loss: 0.1615 - accuracy: 0.9520\n",
            "Epoch 32/100\n",
            "10/10 [==============================] - 0s 2ms/step - loss: 0.1598 - accuracy: 0.9460\n",
            "Epoch 33/100\n",
            "10/10 [==============================] - 0s 2ms/step - loss: 0.1594 - accuracy: 0.9480\n",
            "Epoch 34/100\n",
            "10/10 [==============================] - 0s 2ms/step - loss: 0.1586 - accuracy: 0.9520\n",
            "Epoch 35/100\n",
            "10/10 [==============================] - 0s 1ms/step - loss: 0.1577 - accuracy: 0.9500\n",
            "Epoch 36/100\n",
            "10/10 [==============================] - 0s 1ms/step - loss: 0.1577 - accuracy: 0.9520\n",
            "Epoch 37/100\n",
            "10/10 [==============================] - 0s 1ms/step - loss: 0.1573 - accuracy: 0.9520\n",
            "Epoch 38/100\n",
            "10/10 [==============================] - 0s 1ms/step - loss: 0.1576 - accuracy: 0.9480\n",
            "Epoch 39/100\n",
            "10/10 [==============================] - 0s 2ms/step - loss: 0.1565 - accuracy: 0.9540\n",
            "Epoch 40/100\n",
            "10/10 [==============================] - 0s 2ms/step - loss: 0.1564 - accuracy: 0.9520\n",
            "Epoch 41/100\n",
            "10/10 [==============================] - 0s 1ms/step - loss: 0.1564 - accuracy: 0.9500\n",
            "Epoch 42/100\n",
            "10/10 [==============================] - 0s 1ms/step - loss: 0.1557 - accuracy: 0.9520\n",
            "Epoch 43/100\n",
            "10/10 [==============================] - 0s 1ms/step - loss: 0.1560 - accuracy: 0.9520\n",
            "Epoch 44/100\n",
            "10/10 [==============================] - 0s 2ms/step - loss: 0.1546 - accuracy: 0.9500\n",
            "Epoch 45/100\n",
            "10/10 [==============================] - 0s 2ms/step - loss: 0.1555 - accuracy: 0.9480\n",
            "Epoch 46/100\n",
            "10/10 [==============================] - 0s 1ms/step - loss: 0.1555 - accuracy: 0.9500\n",
            "Epoch 47/100\n",
            "10/10 [==============================] - 0s 2ms/step - loss: 0.1546 - accuracy: 0.9520\n",
            "Epoch 48/100\n",
            "10/10 [==============================] - 0s 2ms/step - loss: 0.1550 - accuracy: 0.9500\n",
            "Epoch 49/100\n",
            "10/10 [==============================] - 0s 2ms/step - loss: 0.1570 - accuracy: 0.9480\n",
            "Epoch 50/100\n",
            "10/10 [==============================] - 0s 1ms/step - loss: 0.1539 - accuracy: 0.9500\n",
            "Epoch 51/100\n",
            "10/10 [==============================] - 0s 2ms/step - loss: 0.1549 - accuracy: 0.9480\n",
            "Epoch 52/100\n",
            "10/10 [==============================] - 0s 1ms/step - loss: 0.1553 - accuracy: 0.9440\n",
            "Epoch 53/100\n",
            "10/10 [==============================] - 0s 1ms/step - loss: 0.1547 - accuracy: 0.9480\n",
            "Epoch 54/100\n",
            "10/10 [==============================] - 0s 2ms/step - loss: 0.1527 - accuracy: 0.9540\n",
            "Epoch 55/100\n",
            "10/10 [==============================] - 0s 1ms/step - loss: 0.1533 - accuracy: 0.9520\n",
            "Epoch 56/100\n",
            "10/10 [==============================] - 0s 1ms/step - loss: 0.1528 - accuracy: 0.9520\n",
            "Epoch 57/100\n",
            "10/10 [==============================] - 0s 1ms/step - loss: 0.1529 - accuracy: 0.9500\n",
            "Epoch 58/100\n",
            "10/10 [==============================] - 0s 2ms/step - loss: 0.1541 - accuracy: 0.9480\n",
            "Epoch 59/100\n",
            "10/10 [==============================] - 0s 2ms/step - loss: 0.1530 - accuracy: 0.9500\n",
            "Epoch 60/100\n",
            "10/10 [==============================] - 0s 2ms/step - loss: 0.1548 - accuracy: 0.9460\n",
            "Epoch 61/100\n",
            "10/10 [==============================] - 0s 2ms/step - loss: 0.1538 - accuracy: 0.9480\n",
            "Epoch 62/100\n",
            "10/10 [==============================] - 0s 2ms/step - loss: 0.1535 - accuracy: 0.9480\n",
            "Epoch 63/100\n",
            "10/10 [==============================] - 0s 2ms/step - loss: 0.1540 - accuracy: 0.9540\n",
            "Epoch 64/100\n",
            "10/10 [==============================] - 0s 1ms/step - loss: 0.1533 - accuracy: 0.9500\n",
            "Epoch 65/100\n",
            "10/10 [==============================] - 0s 1ms/step - loss: 0.1519 - accuracy: 0.9460\n",
            "Epoch 66/100\n",
            "10/10 [==============================] - 0s 2ms/step - loss: 0.1517 - accuracy: 0.9520\n",
            "Epoch 67/100\n",
            "10/10 [==============================] - 0s 3ms/step - loss: 0.1524 - accuracy: 0.9520\n",
            "Epoch 68/100\n",
            "10/10 [==============================] - 0s 2ms/step - loss: 0.1525 - accuracy: 0.9500\n",
            "Epoch 69/100\n",
            "10/10 [==============================] - 0s 1ms/step - loss: 0.1542 - accuracy: 0.9500\n",
            "Epoch 70/100\n",
            "10/10 [==============================] - 0s 1ms/step - loss: 0.1517 - accuracy: 0.9500\n",
            "Epoch 71/100\n",
            "10/10 [==============================] - 0s 1ms/step - loss: 0.1521 - accuracy: 0.9480\n",
            "Epoch 72/100\n",
            "10/10 [==============================] - 0s 2ms/step - loss: 0.1520 - accuracy: 0.9520\n",
            "Epoch 73/100\n",
            "10/10 [==============================] - 0s 2ms/step - loss: 0.1521 - accuracy: 0.9480\n",
            "Epoch 74/100\n",
            "10/10 [==============================] - 0s 2ms/step - loss: 0.1525 - accuracy: 0.9480\n",
            "Epoch 75/100\n",
            "10/10 [==============================] - 0s 2ms/step - loss: 0.1531 - accuracy: 0.9520\n",
            "Epoch 76/100\n",
            "10/10 [==============================] - 0s 2ms/step - loss: 0.1519 - accuracy: 0.9500\n",
            "Epoch 77/100\n",
            "10/10 [==============================] - 0s 2ms/step - loss: 0.1518 - accuracy: 0.9520\n",
            "Epoch 78/100\n",
            "10/10 [==============================] - 0s 1ms/step - loss: 0.1515 - accuracy: 0.9520\n",
            "Epoch 79/100\n",
            "10/10 [==============================] - 0s 2ms/step - loss: 0.1524 - accuracy: 0.9500\n",
            "Epoch 80/100\n",
            "10/10 [==============================] - 0s 2ms/step - loss: 0.1540 - accuracy: 0.9440\n",
            "Epoch 81/100\n",
            "10/10 [==============================] - 0s 2ms/step - loss: 0.1520 - accuracy: 0.9500\n",
            "Epoch 82/100\n",
            "10/10 [==============================] - 0s 2ms/step - loss: 0.1522 - accuracy: 0.9520\n",
            "Epoch 83/100\n",
            "10/10 [==============================] - 0s 1ms/step - loss: 0.1517 - accuracy: 0.9520\n",
            "Epoch 84/100\n",
            "10/10 [==============================] - 0s 2ms/step - loss: 0.1531 - accuracy: 0.9520\n",
            "Epoch 85/100\n",
            "10/10 [==============================] - 0s 2ms/step - loss: 0.1530 - accuracy: 0.9500\n",
            "Epoch 86/100\n",
            "10/10 [==============================] - 0s 1ms/step - loss: 0.1519 - accuracy: 0.9520\n",
            "Epoch 87/100\n",
            "10/10 [==============================] - 0s 1ms/step - loss: 0.1518 - accuracy: 0.9500\n",
            "Epoch 88/100\n",
            "10/10 [==============================] - 0s 1ms/step - loss: 0.1531 - accuracy: 0.9500\n",
            "Epoch 89/100\n",
            "10/10 [==============================] - 0s 1ms/step - loss: 0.1515 - accuracy: 0.9500\n",
            "Epoch 90/100\n",
            "10/10 [==============================] - 0s 1ms/step - loss: 0.1534 - accuracy: 0.9480\n",
            "Epoch 91/100\n",
            "10/10 [==============================] - 0s 2ms/step - loss: 0.1517 - accuracy: 0.9480\n",
            "Epoch 92/100\n",
            "10/10 [==============================] - 0s 2ms/step - loss: 0.1527 - accuracy: 0.9480\n",
            "Epoch 93/100\n",
            "10/10 [==============================] - 0s 2ms/step - loss: 0.1529 - accuracy: 0.9540\n",
            "Epoch 94/100\n",
            "10/10 [==============================] - 0s 2ms/step - loss: 0.1510 - accuracy: 0.9540\n",
            "Epoch 95/100\n",
            "10/10 [==============================] - 0s 1ms/step - loss: 0.1506 - accuracy: 0.9480\n",
            "Epoch 96/100\n",
            "10/10 [==============================] - 0s 1ms/step - loss: 0.1555 - accuracy: 0.9480\n",
            "Epoch 97/100\n",
            "10/10 [==============================] - 0s 1ms/step - loss: 0.1512 - accuracy: 0.9480\n",
            "Epoch 98/100\n",
            "10/10 [==============================] - 0s 1ms/step - loss: 0.1529 - accuracy: 0.9500\n",
            "Epoch 99/100\n",
            "10/10 [==============================] - 0s 1ms/step - loss: 0.1520 - accuracy: 0.9520\n",
            "Epoch 100/100\n",
            "10/10 [==============================] - 0s 1ms/step - loss: 0.1524 - accuracy: 0.9500\n"
          ]
        },
        {
          "output_type": "execute_result",
          "data": {
            "text/plain": [
              "<keras.callbacks.History at 0x7fa61f8ce8d0>"
            ]
          },
          "metadata": {},
          "execution_count": 13
        }
      ]
    },
    {
      "cell_type": "code",
      "metadata": {
        "id": "8KTQTKaSWWqH"
      },
      "source": [
        "def plot_decision_boundary(X, y_cat, model):\n",
        "    x_span = np.linspace(min(X[:,0]) - 1, max(X[:,0]) + 1)\n",
        "    y_span = np.linspace(min(X[:,1]) - 1, max(X[:,1]) + 1)\n",
        "    xx, yy = np.meshgrid(x_span, y_span)\n",
        "    xx_, yy_ = xx.ravel(), yy.ravel()\n",
        "    grid = np.c_[xx.ravel(), yy.ravel()]\n",
        "    pred_func = np.argmax(model.predict(grid), axis =-1 )\n",
        "    z = pred_func.reshape(xx.shape)\n",
        "    plt.contourf(xx, yy, z)"
      ],
      "execution_count": 14,
      "outputs": []
    },
    {
      "cell_type": "code",
      "metadata": {
        "colab": {
          "base_uri": "https://localhost:8080/",
          "height": 282
        },
        "id": "ofZ87z7eWnvI",
        "outputId": "e2a9f35a-ca31-48cb-8c0d-3298ed268897"
      },
      "source": [
        "plot_decision_boundary(X, y_cat, model)\n",
        "plt.scatter(X[y==0, 0], X[y==0, 1])\n",
        "plt.scatter(X[y==1, 0], X[y==1, 1])\n",
        "plt.scatter(X[y==2, 0], X[y==2, 1])\n",
        "plt.scatter(X[y==3, 0], X[y==3, 1])\n",
        "plt.scatter(X[y==4, 0], X[y==4, 1])"
      ],
      "execution_count": 15,
      "outputs": [
        {
          "output_type": "execute_result",
          "data": {
            "text/plain": [
              "<matplotlib.collections.PathCollection at 0x7fa61f847a90>"
            ]
          },
          "metadata": {},
          "execution_count": 15
        },
        {
          "output_type": "display_data",
          "data": {
            "image/png": "[encoded data removed]",
            "text/plain": [
              "<Figure size 432x288 with 1 Axes>"
            ]
          },
          "metadata": {
            "needs_background": "light"
          }
        }
      ]
    }
  ]
}